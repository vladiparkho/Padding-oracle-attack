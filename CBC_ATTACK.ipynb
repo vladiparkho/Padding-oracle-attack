{
 "cells": [
  {
   "cell_type": "code",
   "execution_count": 1,
   "metadata": {},
   "outputs": [],
   "source": [
    "FLAG = 'E814A693E0E4C9D1EEFDC59547AB71BECF0FF4A78EF9A74B07C91D8243F9FDE8'"
   ]
  },
  {
   "cell_type": "code",
   "execution_count": 2,
   "metadata": {},
   "outputs": [
    {
     "data": {
      "text/plain": [
       "('E814A693E0E4C9D1EEFDC59547AB71BE', 'CF0FF4A78EF9A74B07C91D8243F9FDE8')"
      ]
     },
     "execution_count": 2,
     "metadata": {},
     "output_type": "execute_result"
    }
   ],
   "source": [
    "bl1,bl2 = FLAG[:32],FLAG[32:]\n",
    "bl1,bl2"
   ]
  },
  {
   "cell_type": "code",
   "execution_count": 3,
   "metadata": {},
   "outputs": [],
   "source": [
    "def getAllHex(n):\n",
    "    return [f\"{{:0{n}X}}\".format(x) for x in range(256)]"
   ]
  },
  {
   "cell_type": "code",
   "execution_count": 11,
   "metadata": {},
   "outputs": [],
   "source": [
    "def xorArrs(arr1, arr2):\n",
    "    return list(int(i,16) ^ int(j,16) for i, j in zip(arr1, arr2))"
   ]
  },
  {
   "cell_type": "code",
   "execution_count": 4,
   "metadata": {},
   "outputs": [],
   "source": [
    "empBlock = '00'*16"
   ]
  },
  {
   "cell_type": "code",
   "execution_count": 7,
   "metadata": {},
   "outputs": [],
   "source": [
    "iv = [bl1[2*i : 2*(i+1)] for i in range(32 // 2)]  "
   ]
  },
  {
   "cell_type": "code",
   "execution_count": null,
   "metadata": {},
   "outputs": [],
   "source": [
    "import socket\n",
    "\n",
    "HOST = '127.0.0.1'\n",
    "PORT = 900\n",
    "block_n = 32\n",
    "arrOfBytes = [0]*16\n",
    "originalBYtes = []\n",
    "toAdd = str()\n",
    "n2 = 0\n",
    "with socket.socket(socket.AF_INET, socket.SOCK_STREAM) as s:\n",
    "    s.connect((HOST, PORT))\n",
    "    blocks1 = getAllHex(block_n)\n",
    "    \n",
    "    for b in range(16):\n",
    "        blocks1 = getAllHex(block_n)\n",
    "        for bl in blocks1:\n",
    "            bl=bl+toAdd+bl2\n",
    "            print(bl)\n",
    "            s.sendall(bl.encode(\"utf-8\"))\n",
    "            data = s.recv(100).decode().strip()\n",
    "            if data == \"Correct padding\":\n",
    "                print(f'Sucess. Byte n {b+1},{bl[block_n-2:block_n]}')\n",
    "                originalBYtes.append(bl[block_n-2:block_n])\n",
    "                arrOfBytes[b] = hex(int(bl[block_n-2:block_n],16) ^ (n2+1))\n",
    "                print('Bytes array ',arrOfBytes)\n",
    "                break\n",
    "        n2+=1\n",
    "        block_n-=2\n",
    "        nextBytes = [hex(int(x,16) ^ (n2+1)) for x in reversed(arrOfBytes[:n2])]\n",
    "        print('To add ',nextBytes)\n",
    "        toAdd = \"\".join(x[2:] for x in nextBytes).upper()"
   ]
  },
  {
   "cell_type": "code",
   "execution_count": 19,
   "metadata": {},
   "outputs": [
    {
     "name": "stdout",
     "output_type": "stream",
     "text": [
      "['0xbc', '0x73', '0xcb', '0x32', '0xfb', '0xab', '0x91', '0x8f', '0xbd', '0xad', '0x8a', '0x8a', '0xff', '0xc2', '0x7c', '0x94']\n"
     ]
    }
   ],
   "source": [
    "print(arrOfBytes)"
   ]
  },
  {
   "cell_type": "code",
   "execution_count": null,
   "metadata": {},
   "outputs": [],
   "source": [
    "answer = xorArrs(iv,arrOfBytes[::-1])"
   ]
  },
  {
   "cell_type": "code",
   "execution_count": 16,
   "metadata": {},
   "outputs": [
    {
     "data": {
      "text/plain": [
       "[124, 104, 100, 108, 106, 110, 100, 108, 97, 108, 110, 110, 117, 96, 2, 2]"
      ]
     },
     "execution_count": 16,
     "metadata": {},
     "output_type": "execute_result"
    }
   ],
   "source": [
    "answer"
   ]
  },
  {
   "cell_type": "code",
   "execution_count": 18,
   "metadata": {},
   "outputs": [
    {
     "name": "stdout",
     "output_type": "stream",
     "text": [
      "| h d l j n d l a l n n u ` \u0002 \u0002\n"
     ]
    }
   ],
   "source": [
    "print (' '.join(chr(i) for i in answer))"
   ]
  },
  {
   "cell_type": "code",
   "execution_count": 13,
   "metadata": {},
   "outputs": [],
   "source": [
    "hexAnswer = [hex(i) for i in answer]"
   ]
  },
  {
   "cell_type": "code",
   "execution_count": 17,
   "metadata": {},
   "outputs": [
    {
     "name": "stdout",
     "output_type": "stream",
     "text": [
      "['0x7c', '0x68', '0x64', '0x6c', '0x6a', '0x6e', '0x64', '0x6c', '0x61', '0x6c', '0x6e', '0x6e', '0x75', '0x60', '0x2', '0x2']\n"
     ]
    }
   ],
   "source": [
    "print(hexAnswer)"
   ]
  }
 ],
 "metadata": {
  "kernelspec": {
   "display_name": "Python 3",
   "language": "python",
   "name": "python3"
  },
  "language_info": {
   "codemirror_mode": {
    "name": "ipython",
    "version": 3
   },
   "file_extension": ".py",
   "mimetype": "text/x-python",
   "name": "python",
   "nbconvert_exporter": "python",
   "pygments_lexer": "ipython3",
   "version": "3.8.10"
  }
 },
 "nbformat": 4,
 "nbformat_minor": 4
}
